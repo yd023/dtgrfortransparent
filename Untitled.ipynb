{
 "cells": [
  {
   "cell_type": "code",
   "execution_count": 1,
   "id": "fc73018e",
   "metadata": {},
   "outputs": [],
   "source": [
    "import mitsuba as mi"
   ]
  },
  {
   "cell_type": "code",
   "execution_count": 2,
   "id": "39c285b3",
   "metadata": {},
   "outputs": [
    {
     "data": {
      "text/plain": [
       "['scalar_rgb', 'scalar_spectral', 'cuda_ad_rgb', 'llvm_ad_rgb']"
      ]
     },
     "execution_count": 2,
     "metadata": {},
     "output_type": "execute_result"
    }
   ],
   "source": [
    "mi.variants()"
   ]
  },
  {
   "cell_type": "code",
   "execution_count": 3,
   "id": "9cced48c",
   "metadata": {},
   "outputs": [],
   "source": [
    "mi.set_variant(\"scalar_rgb\")"
   ]
  },
  {
   "cell_type": "code",
   "execution_count": 4,
   "id": "802900a6",
   "metadata": {},
   "outputs": [
    {
     "ename": "RuntimeError",
     "evalue": "​[xml.cpp:215] Error while loading \"./plant_light/scene.xml\" (at line 31, col 4): invalid spectrum (expected wavelength:value pairs).",
     "output_type": "error",
     "traceback": [
      "\u001b[0;31m---------------------------------------------------------------------------\u001b[0m",
      "\u001b[0;31mRuntimeError\u001b[0m                              Traceback (most recent call last)",
      "Input \u001b[0;32mIn [4]\u001b[0m, in \u001b[0;36m<cell line: 1>\u001b[0;34m()\u001b[0m\n\u001b[0;32m----> 1\u001b[0m scene \u001b[38;5;241m=\u001b[39m \u001b[43mmi\u001b[49m\u001b[38;5;241;43m.\u001b[39;49m\u001b[43mload_file\u001b[49m\u001b[43m(\u001b[49m\u001b[38;5;124;43m\"\u001b[39;49m\u001b[38;5;124;43m./plant_light/scene.xml\u001b[39;49m\u001b[38;5;124;43m\"\u001b[39;49m\u001b[43m)\u001b[49m\n",
      "\u001b[0;31mRuntimeError\u001b[0m: ​[xml.cpp:215] Error while loading \"./plant_light/scene.xml\" (at line 31, col 4): invalid spectrum (expected wavelength:value pairs)."
     ]
    }
   ],
   "source": [
    "scene = mi.load_file(\"./plant_light/scene.xml\")"
   ]
  },
  {
   "cell_type": "code",
   "execution_count": null,
   "id": "f4e974c8",
   "metadata": {},
   "outputs": [],
   "source": []
  }
 ],
 "metadata": {
  "kernelspec": {
   "display_name": "Python 3 (ipykernel)",
   "language": "python",
   "name": "python3"
  },
  "language_info": {
   "codemirror_mode": {
    "name": "ipython",
    "version": 3
   },
   "file_extension": ".py",
   "mimetype": "text/x-python",
   "name": "python",
   "nbconvert_exporter": "python",
   "pygments_lexer": "ipython3",
   "version": "3.9.12"
  }
 },
 "nbformat": 4,
 "nbformat_minor": 5
}
